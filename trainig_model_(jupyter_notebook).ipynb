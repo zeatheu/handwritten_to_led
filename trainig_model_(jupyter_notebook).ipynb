{
  "cells": [
    {
      "cell_type": "markdown",
      "metadata": {
        "id": "pZTnmD36QAZS"
      },
      "source": [
        "# Handwritten Digit Recognition Model\n",
        "\n",
        "This Convolutional Neural Network (CNN) model is designed to recognize handwritten digits from 0-9. It's trained on the MNIST dataset and optimized for real-time prediction on an Arduino Nano project with a seven-segment display.\n",
        "\n",
        "## Model Architecture\n",
        "\n",
        "The model uses a modern CNN architecture with:\n",
        "- Two convolutional layers with batch normalization\n",
        "- Max pooling for dimensionality reduction\n",
        "- Dropout regularization (50%) to prevent overfitting\n",
        "- ReLU activation functions throughout the network\n",
        "\n",
        "```\n",
        "DigitCNN Architecture:\n",
        "- Conv2D(1→16, 3×3) + BatchNorm2D + ReLU\n",
        "- MaxPool2D(2×2)\n",
        "- Conv2D(16→32, 3×3) + BatchNorm2D + ReLU\n",
        "- MaxPool2D(2×2)\n",
        "- Fully Connected Layer (800→128) + ReLU\n",
        "- Dropout(0.5)\n",
        "- Output Layer (128→10)\n",
        "```\n",
        "\n",
        "## Training Approach\n",
        "\n",
        "The model is trained with:\n",
        "- Data augmentation (rotation, translation) for better generalization\n",
        "- Adam optimizer with learning rate of 0.001\n",
        "- Cross-entropy loss function\n",
        "- 90/10 train-validation split\n",
        "- Early stopping based on validation accuracy\n",
        "\n",
        "## Performance\n",
        "\n",
        "After 10 epochs of training, the model achieves:\n",
        "- Training loss: ~0.XX\n",
        "- Validation accuracy: ~9X.X%\n",
        "\n",
        "The model is lightweight enough to run on embedded systems while maintaining high accuracy for clear handwritten digits.\n",
        "\n",
        "## Usage\n",
        "\n",
        "This model is designed to be exported and used in a Python application that captures handwritten input from a canvas, processes it to match the MNIST format, and sends predictions to an Arduino Nano to display on a seven-segment display."
      ]
    },
    {
      "cell_type": "markdown",
      "metadata": {
        "id": "Q3vv_UltSaWU"
      },
      "source": [
        "# THE CODE"
      ]
    },
    {
      "cell_type": "code",
      "execution_count": null,
      "metadata": {
        "id": "CABBgWGEQqWT"
      },
      "outputs": [],
      "source": [
        "import torch\n",
        "import torch.nn as nn\n",
        "import torch.nn.functional as F\n",
        "import torchvision\n",
        "import torchvision.transforms as transforms\n",
        "from torch.utils.data import DataLoader, random_split"
      ]
    },
    {
      "cell_type": "markdown",
      "metadata": {
        "id": "JJIL5TB0Q7np"
      },
      "source": [
        "**Data augmentation and transformation**"
      ]
    },
    {
      "cell_type": "code",
      "execution_count": null,
      "metadata": {
        "id": "m36uDmkIQ27g"
      },
      "outputs": [],
      "source": [
        "transform = transforms.Compose([\n",
        "    transforms.RandomRotation(10),\n",
        "    transforms.RandomAffine(degrees=0, translate=(0.1, 0.1)),\n",
        "    transforms.ToTensor()\n",
        "])"
      ]
    },
    {
      "cell_type": "markdown",
      "metadata": {
        "id": "cV2_-2bpRFzu"
      },
      "source": [
        "**Load MNIST dataset && Split into training and validation sets**"
      ]
    },
    {
      "cell_type": "code",
      "execution_count": null,
      "metadata": {
        "id": "V_6mFoavRcrY"
      },
      "outputs": [],
      "source": [
        "train_dataset = torchvision.datasets.MNIST(root='./data', train=True, download=True, transform=transform)\n",
        "\n",
        "\n",
        "train_size = int(0.9 * len(train_dataset))\n",
        "val_size = len(train_dataset) - train_size\n",
        "train_data, val_data = random_split(train_dataset, [train_size, val_size])\n",
        "train_loader = DataLoader(train_data, batch_size=64, shuffle=True)\n",
        "val_loader = DataLoader(val_data, batch_size=64, shuffle=False)"
      ]
    },
    {
      "cell_type": "markdown",
      "metadata": {
        "id": "GOgArg_nRnjv"
      },
      "source": [
        "**CNN model**"
      ]
    },
    {
      "cell_type": "code",
      "execution_count": null,
      "metadata": {
        "id": "dSrUDkGaRi-i"
      },
      "outputs": [],
      "source": [
        "class DigitCNN(nn.Module):\n",
        "    def __init__(self):\n",
        "        super(DigitCNN, self).__init__()\n",
        "        self.conv1 = nn.Conv2d(1, 16, 3, 1)\n",
        "        self.bn1 = nn.BatchNorm2d(16)\n",
        "        self.conv2 = nn.Conv2d(16, 32, 3, 1)\n",
        "        self.bn2 = nn.BatchNorm2d(32)\n",
        "        self.fc1 = nn.Linear(32 * 5 * 5, 128)\n",
        "        self.dropout = nn.Dropout(0.5)\n",
        "        self.fc2 = nn.Linear(128, 10)\n",
        "\n",
        "    def forward(self, x):\n",
        "        x = F.relu(self.bn1(self.conv1(x)))  # [1, 28, 28] → [16, 26, 26]\n",
        "        x = F.max_pool2d(x, 2)               # → [16, 13, 13]\n",
        "        x = F.relu(self.bn2(self.conv2(x)))  # → [32, 11, 11]\n",
        "        x = F.max_pool2d(x, 2)               # → [32, 5, 5]\n",
        "        x = x.view(-1, 32 * 5 * 5)\n",
        "        x = F.relu(self.fc1(x))\n",
        "        x = self.dropout(x)\n",
        "        x = self.fc2(x)\n",
        "        return x\n"
      ]
    },
    {
      "cell_type": "markdown",
      "metadata": {
        "id": "UNXPK2YXRwcA"
      },
      "source": [
        "**Initialize model, optimizer, and loss**"
      ]
    },
    {
      "cell_type": "code",
      "execution_count": null,
      "metadata": {
        "id": "K5LNO3UDR7zL"
      },
      "outputs": [],
      "source": [
        "model = DigitCNN()\n",
        "optimizer = torch.optim.Adam(model.parameters(), lr=0.001)\n",
        "loss_fn = nn.CrossEntropyLoss()\n"
      ]
    },
    {
      "cell_type": "markdown",
      "metadata": {
        "id": "NCCF_kLNR_3L"
      },
      "source": [
        "**Training loop with validation**"
      ]
    },
    {
      "cell_type": "code",
      "execution_count": null,
      "metadata": {
        "id": "7Q-HgKabR7wU"
      },
      "outputs": [],
      "source": [
        "for epoch in range(10):\n",
        "    model.train()\n",
        "    train_loss = 0\n",
        "    for images, labels in train_loader:\n",
        "        optimizer.zero_grad()\n",
        "        outputs = model(images)\n",
        "        loss = loss_fn(outputs, labels)\n",
        "        loss.backward()\n",
        "        optimizer.step()\n",
        "        train_loss += loss.item()\n",
        "\n",
        "    # Validation\n",
        "    model.eval()\n",
        "    val_loss = 0\n",
        "    correct = 0\n",
        "    total = 0\n",
        "    with torch.no_grad():\n",
        "        for images, labels in val_loader:\n",
        "            outputs = model(images)\n",
        "            val_loss += loss_fn(outputs, labels).item()\n",
        "            _, predicted = torch.max(outputs, 1)\n",
        "            total += labels.size(0)\n",
        "            correct += (predicted == labels).sum().item()\n",
        "\n",
        "    print(f\"Epoch {epoch+1}, Train Loss: {train_loss/len(train_loader):.4f}, \"\n",
        "          f\"Val Loss: {val_loss/len(val_loader):.4f}, Val Acc: {100 * correct/total:.2f}%\")"
      ]
    },
    {
      "cell_type": "markdown",
      "metadata": {
        "id": "wwCt21tVSJax"
      },
      "source": [
        "**Save the model**"
      ]
    },
    {
      "cell_type": "code",
      "execution_count": null,
      "metadata": {
        "id": "bkIdhv8pR7tm"
      },
      "outputs": [],
      "source": [
        "torch.save(model.state_dict(), \"digit_cnn.pth\")"
      ]
    },
    {
      "cell_type": "code",
      "execution_count": null,
      "metadata": {
        "id": "WxPO2p-NTXWQ"
      },
      "outputs": [],
      "source": []
    }
  ],
  "metadata": {
    "accelerator": "GPU",
    "colab": {
      "gpuType": "T4",
      "provenance": []
    },
    "kernelspec": {
      "display_name": "Python 3",
      "name": "python3"
    },
    "language_info": {
      "name": "python"
    }
  },
  "nbformat": 4,
  "nbformat_minor": 0
}
